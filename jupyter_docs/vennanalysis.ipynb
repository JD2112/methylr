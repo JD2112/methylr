{
 "cells": [
  {
   "cell_type": "markdown",
   "metadata": {},
   "source": [
    "# Venn analysis\n",
    "Venn analysis can be performed to show the logical relation between sets. In this module, user will need two or more analyses (max 6 datasets) to perform the Venn analysis.\n",
    "\n",
    "## How to use\n",
    "Below given the details for the use of Venn analysis module.\n",
    "### Data upload & Parameters setup\n",
    "\n",
    "#### Parameters setup\n",
    "\n",
    "1. *Upload*: Data can be uploaded as TEXT or CSV or semicolon separated format. A demo test dataset is running by default and it is available for download by clicking on the \"List example data\" button.\n",
    "\n",
    "2. *Settings*: Under settings, there are multiple options to display the plot -\n",
    "    i. *Venn type*: different type of venn diagram can be selected from the drop-down menu\n",
    "    - Chow-Ruskey\n",
    "    - Classical\n",
    "    - Edwards\n",
    "    - Square\n",
    "    - Battle\n",
    "    \n",
    "    The diagram can be *weighted* or *Eular*.\n",
    "    \n",
    "    ii. *Border line width*: border line can be drawn with the slider option.\n",
    "\n",
    "    iii. *Border line type*: border line type can be selected from the drop-down menu.\n",
    "\n",
    "    iv. *zoom in/out Venn diagram*: select the zoom option on the slide bar.\n",
    "\n",
    "3. *Font & Color*: multiple ooptions are included for font and colours -\n",
    "    \n",
    "    i. *Select color theme*: Colour theme can be chosen from the drop-down menu.\n",
    "    \n",
    "    ii. *Label font size*: Change the font size of the Label.\n",
    "    \n",
    "    iii. *Number font size*: Change the font size of the number.\n",
    "\n",
    "## Results\n",
    "User can download the figure in different format.\n",
    "\n",
    "![venn](images/Venndiag.png)\n",
    "\n",
    "## R packages used\n",
    "1. Vennerable\n",
    "2. readr"
   ]
  },
  {
   "cell_type": "code",
   "execution_count": null,
   "metadata": {},
   "outputs": [],
   "source": []
  }
 ],
 "metadata": {
  "kernelspec": {
   "display_name": "Python 3 (ipykernel)",
   "language": "python",
   "name": "python3"
  },
  "language_info": {
   "codemirror_mode": {
    "name": "ipython",
    "version": 3
   },
   "file_extension": ".py",
   "mimetype": "text/x-python",
   "name": "python",
   "nbconvert_exporter": "python",
   "pygments_lexer": "ipython3",
   "version": "3.7.6"
  },
  "vscode": {
   "interpreter": {
    "hash": "aee8b7b246df8f9039afb4144a1f6fd8d2ca17a180786b69acc140d282b71a49"
   }
  }
 },
 "nbformat": 4,
 "nbformat_minor": 2
}
