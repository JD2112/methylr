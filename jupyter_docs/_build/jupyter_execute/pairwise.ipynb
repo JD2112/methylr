{
 "cells": [
  {
   "cell_type": "markdown",
   "metadata": {},
   "source": [
    "# Pairwise & Heatmap analysis\n",
    "\n",
    "## How to use\n",
    "\n",
    "### Data upload & Parameters setup\n",
    "\n",
    "#### Parameters setup\n",
    "\n",
    "## R packages used"
   ]
  }
 ],
 "metadata": {
  "language_info": {
   "codemirror_mode": {
    "name": "ipython",
    "version": 3
   },
   "file_extension": ".py",
   "mimetype": "text/x-python",
   "name": "python",
   "nbconvert_exporter": "python",
   "pygments_lexer": "ipython3",
   "version": "3.9.10"
  }
 },
 "nbformat": 4,
 "nbformat_minor": 2
}