{
 "cells": [
  {
   "cell_type": "markdown",
   "metadata": {},
   "source": [
    "# Gene Features analysis\n",
    "Gene Features, here we presented only the structural part of the gene that can be classified as promoter, exon, intron, untranslated regions {cite:p}`skolnick2000structural`. These features are essential for DNA methylation study as example, methylation on the promoter can alter the gene expression. Here we used a simple tool to find out how many differentially methylated CpGs are distributed over the different regions of the gene. However, we separated this from the methylysis because user can use the same tool for different datasets, such as differentially expressed genes data.\n",
    "\n",
    "## How to use\n",
    "### Data upload & Parameters setup\n",
    "#### Data upload\n",
    "1. User can upload the differentially methylated CpG (DMC) file that are generated from methylysis run or\n",
    "2. they can use separate file which has similar annotation.\n",
    "The basic requirement to run the tool is to have the following gene feature in the supplied text file -\n",
    "    - 1st Exon\n",
    "    - 3´UTR\n",
    "    - 5´UTR\n",
    "    - Body\n",
    "    - ExonBnd\n",
    "    - TSS1500\n",
    "    - TSS200\n",
    "3. Remember to upload the file as TEXT (tab-delimited) format file.\n",
    "4. After uploading the file, when the 'blue' bar finished uploading, click on 'Run Analysis' will generate the pie chart.\n",
    "\n",
    "## Gene Features Analysis Result\n",
    "\n",
    "### Gene Feature Plot\n",
    "An interactive pie chart will be generated with different regions and number of DMCs.\n",
    "![gene feature plot](images/GeneFea1.png)\n",
    "\n",
    "### Gene Feature Table\n",
    "The result will also be displayed as table, available for download.\n",
    "![gene feature plot](images/GeneFea2.png)\n",
    "\n",
    "## R packages used\n",
    "1. plotly\n",
    "2. "
   ]
  }
 ],
 "metadata": {
  "language_info": {
   "codemirror_mode": {
    "name": "ipython",
    "version": 3
   },
   "file_extension": ".py",
   "mimetype": "text/x-python",
   "name": "python",
   "nbconvert_exporter": "python",
   "pygments_lexer": "ipython3",
   "version": "3.9.10"
  }
 },
 "nbformat": 4,
 "nbformat_minor": 2
}