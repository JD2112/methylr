{
 "cells": [
  {
   "cell_type": "markdown",
   "metadata": {},
   "source": [
    "# How to create the input file for *methylR* (zip archive) \n",
    "This section describes how to create a zip archive containing the input files to start the methylysis analysis.\n",
    "\n",
    "## Methods\n",
    "We will describe three methods to create a zip file:\n",
    "\n",
    "1. Windows zip utility\n",
    "2. 7-zip ([https://www.7-zip.org/](https://www.7-zip.org/))\n",
    "3. Bash script ([https://www.github.com/](https://github.com/JD2112/methylr/blob/main/script.sh))\n",
    "4. Command line (Ubuntu Linux)\n",
    "\n",
    "### Description\n",
    "Users need to collect the Sample_sheet.csv file and all the idat files belonging to the analysis as they come from the sequencer. All the methods require to create a New folder (you can give any name, for example **testData**) and move the *Sample_sheet.csv* file inside. Enter the testData directory and then create a folder named **idat**, then move all the directories generated with the analysis and containing the *idat files* (green and red) into this idat folder. In the end you will get this kind of organisation:\n",
    "\n",
    "![tree](images/zip1.png)\n",
    "\n",
    "## 1. Windows zip utility (Windows 7, 8, 10, 11)\n",
    "1. Right-click on the New folder you created with the file structure discussed above. \n",
    "2. Then click Send to > Compressed (zipped) folder\n",
    "\n",
    "![win](images/zip2.png)\n",
    "\n",
    "## 2. 7-zip utility (Windows 7, 8, 10, 11)\n",
    "7-Zip is a free open-source file archiver with a high compression ratio. You can use 7-Zip on any computer, including a computer in a commercial organization. You don't need to register or pay for 7-Zip. You can download 7-zip for Windows at ([https://www.7-zip.org/](https://www.7-zip.org/)). If you have installed 7-zip and want to create the input file for *methylR* you just:\n",
    "\n",
    "1. Right-click on the New folder you created with the file structure discussed above. \n",
    "2. Then click 7-Zip > Add to archive...\n",
    "\n",
    "![7-zip](images/zip3.png)\n",
    "\n",
    "## 3. Bash script (MacOS/Linux)\n",
    "We provide an automathized bash script that is able to create the file structure discussed above for you.\n",
    "\n",
    "### Linux:\n",
    "Depending on which interface you use (e.g., GNOME, KDE, Xfce), the terminal will be accessed differently. We recommend you check [Ubuntu's Using the Terminal](https://help.ubuntu.com/community/UsingTheTerminal?action=show&redirect=BasicCommands) page for the several ways to access the terminal.\n",
    "\n",
    "1. Click Start and search for \"Terminal\". Alternatively, press *Alt + Ctrl + t* and type \"cmd\" then click OK.\n",
    "2. Then type the following command: \n",
    "```\n",
    "sh script.sh /path/to/data/\n",
    "```\n",
    "\n",
    "### MacOS:\n",
    "1. You can access the terminal by pressing ⌘ + space on your keyboard and searching for \"terminal\".\n",
    "2. Then type the following command and press Enter: \n",
    "```\n",
    "sh script.sh /path/to/data/\n",
    "```\n",
    "\n",
    "## 4. Command line (Linux)\n",
    "Depending on which interface you use (e.g. GNOME, KDE, Xfce), the terminal will be accessed differently. We recommend you check [Ubuntu's Using the Terminal](https://help.ubuntu.com/community/UsingTheTerminal?action=show&redirect=BasicCommands) page for the several ways to access the terminal.\n",
    "\n",
    "1. Click Start and search for \"Terminal\". Alternatively, press *Alt + Ctrl + t* and type \"cmd\" then click OK.\n",
    "2. Then move to the New folder and create the zip archive by typing the following command and press Enter:\n",
    "```\n",
    "cd /path/to/data/\n",
    "zip folder/\n",
    "```"
   ]
  },
  {
   "cell_type": "code",
   "execution_count": null,
   "metadata": {},
   "outputs": [],
   "source": []
  }
 ],
 "metadata": {
  "kernelspec": {
   "display_name": "Python 3 (ipykernel)",
   "language": "python",
   "name": "python3"
  },
  "language_info": {
   "codemirror_mode": {
    "name": "ipython",
    "version": 3
   },
   "file_extension": ".py",
   "mimetype": "text/x-python",
   "name": "python",
   "nbconvert_exporter": "python",
   "pygments_lexer": "ipython3",
   "version": "3.7.6"
  }
 },
 "nbformat": 4,
 "nbformat_minor": 2
}
