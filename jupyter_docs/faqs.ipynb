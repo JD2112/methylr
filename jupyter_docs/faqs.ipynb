{
 "cells": [
  {
   "cell_type": "markdown",
   "metadata": {
    "collapsed": true,
    "pycharm": {
     "name": "#%% md\n"
    }
   },
   "source": [
    "# HELP/FAQs/Troubleshooting\n",
    "\n",
    "## Troubleshooting\n",
    "1. Issue with the server: the University/IT needs to restart the server for maintenance, security updates and it may be down for few hours. Please use the docker container from your local computer or wait few hours before the server gets online again.\n",
    "2. 'reload, connection closed': please reload the page or if the problem persists, close the browser, clear the browser cache and re-open the site.\n",
    "3. calculation time: we estimated the calculation time based on the provided test data. It varies with the amount of data and parameters chosen, please wait till the process finished.\n",
    "4. error message on local run: check your docker login, permission and singularity version. We tested on singularity version 3.7.1."
   ]
  }
 ],
 "metadata": {
  "kernelspec": {
   "display_name": "Python 3",
   "language": "python",
   "name": "python3"
  },
  "language_info": {
   "codemirror_mode": {
    "name": "ipython",
    "version": 2
   },
   "file_extension": ".py",
   "mimetype": "text/x-python",
   "name": "python",
   "nbconvert_exporter": "python",
   "pygments_lexer": "ipython2",
   "version": "2.7.6"
  }
 },
 "nbformat": 4,
 "nbformat_minor": 0
}