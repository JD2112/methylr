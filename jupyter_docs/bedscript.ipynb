{
 "cells": [
  {
   "cell_type": "markdown",
   "metadata": {},
   "source": [
    "# Convert the DMCs table to BED format\n",
    "This section describes how to convert the DMCs table to standard BED format using the ChAMP2bed.py script.\n",
    "\n",
    "\n",
    "## Method\n",
    "Python3 must be installed on your system, no additional libraries are required. If your system lacks any python installation, please refer to this page: [Python 3 Installation & Setup Guide](https://realpython.com/installing-python/).\n",
    "\n",
    "### Description\n",
    "To use ChAMP2bed.py open a terminal and move to the directory storing your main *methylR* results. ChAMP2bed.py must be in the same directory storing your DMCs table:\n",
    "\n",
    "![dir](images/bed2.png)\n",
    "\n",
    "Run the command:\n",
    "\n",
    "```\n",
    "python3 ChAMP2bed.py myDMC_EPIC_BatchCorrected.txt\n",
    "```\n",
    "\n",
    "Or adjust with the actual filename for your table. It will produce a new file with the same filename from your table but with the *.bed* extension:\n",
    "\n",
    "![dir](images/bed3.png)\n",
    "\n",
    "You can use this file as input for Gviz or import it either in IGV or as a custom track in any other genome browser. Be sure to match the proper genome version used to perform the analysis and to download the correct GTF/GFF3 file if you want to display the CpG (blue) together with additional features, such as genes (green):\n",
    "\n",
    "![dir](images/bed4.png)"
   ]
  },
  {
   "cell_type": "code",
   "execution_count": null,
   "metadata": {},
   "outputs": [],
   "source": []
  }
 ],
 "metadata": {
  "kernelspec": {
   "display_name": "Python 3 (ipykernel)",
   "language": "python",
   "name": "python3"
  },
  "language_info": {
   "codemirror_mode": {
    "name": "ipython",
    "version": 3
   },
   "file_extension": ".py",
   "mimetype": "text/x-python",
   "name": "python",
   "nbconvert_exporter": "python",
   "pygments_lexer": "ipython3",
   "version": "3.7.6"
  },
  "vscode": {
   "interpreter": {
    "hash": "aee8b7b246df8f9039afb4144a1f6fd8d2ca17a180786b69acc140d282b71a49"
   }
  }
 },
 "nbformat": 4,
 "nbformat_minor": 2
}
