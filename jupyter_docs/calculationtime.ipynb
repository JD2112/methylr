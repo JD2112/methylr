{
 "cells": [
  {
   "cell_type": "markdown",
   "metadata": {
    "collapsed": true,
    "pycharm": {
     "name": "#%% md\n"
    }
   },
   "source": [
    "# Calculation time\n",
    "Here we showed the calculation time of each process in *methylR* for both full and lite versions.\n",
    "\n",
    "| module    | processes | calculation time (mm:ss) |\n",
    "|-----------|-----------|--|\n",
    "| methylysis | local run - ChAMP   |  |\n",
    "|              | (params: BMIQ, batch correction, cores = 4) | 03:11 s|\n",
    "|   |  server run - ChAMP |   |\n",
    "|   |  (params: BMIQ, batch correction, cores = 2) | 03:10 s*  |\n",
    "|   |  local run - minfi |   |\n",
    "|   |  (params: Quantile, filters, cores = 4) | 04:01 s  |\n",
    "|   |  server run - minfi |   |\n",
    "|   | (params: Quantile, filters, cores = 2)  |  03:40 s |\n",
    "| multi-D  |   | 00:2 s  |\n",
    "| gene features |   |  00:02 s |\n",
    "| heatmap   |   |  00:01 s |\n",
    "| volcano  |   |  00:18 s |\n",
    "| chromosome  |   | 00:04 s  |\n",
    "| gene ontology  |   | 01:30 s  |\n",
    "| pathway analysis |   | 00:18 s  |"
   ]
  }
 ],
 "metadata": {
  "kernelspec": {
   "display_name": "Python 3.8.5 64-bit",
   "language": "python",
   "name": "python3"
  },
  "language_info": {
   "codemirror_mode": {
    "name": "ipython",
    "version": 2
   },
   "file_extension": ".py",
   "mimetype": "text/x-python",
   "name": "python",
   "nbconvert_exporter": "python",
   "pygments_lexer": "ipython2",
   "version": "3.8.5"
  },
  "vscode": {
   "interpreter": {
    "hash": "aee8b7b246df8f9039afb4144a1f6fd8d2ca17a180786b69acc140d282b71a49"
   }
  }
 },
 "nbformat": 4,
 "nbformat_minor": 0
}
