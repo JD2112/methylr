{
 "cells": [
  {
   "cell_type": "markdown",
   "metadata": {},
   "source": [
    "# Pairwise & Heatmap analysis\n",
    "\n",
    "## How to use\n",
    "\n",
    "### Data upload & Parameters setup\n",
    "\n",
    "#### Parameters setup\n",
    "\n",
    "## R packages used"
   ]
  }
 ],
 "metadata": {
  "language_info": {
   "name": "python"
  },
  "orig_nbformat": 4
 },
 "nbformat": 4,
 "nbformat_minor": 2
}