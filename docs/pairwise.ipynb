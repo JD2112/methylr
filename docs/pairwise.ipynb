{
 "cells": [
  {
   "cell_type": "markdown",
   "metadata": {},
   "source": [
    "# Heatmap analysis\n",
    "A heatmap module is added in *methylr* to show the $\\beta$ value distribution of the differentially methylated CpGs. A pairwise correlation analysis can also be performed in the module.\n",
    "\n",
    "## How to use\n",
    "### Upload\n",
    "User can upload the input data matrix in CSV, text or semicolon-separated format. For a better view of the result, we added the functionality to change the number of variables on the heatmap.\n",
    "\n",
    "### Settings\n",
    "1. **Plot type** - User can choose the heatmap or correlation plot function for the analysis.\n",
    "2. **Correlation Coefficient** - four different types of correlation coefficient added in the module, 1) Pearson, 2) Spearman, 3) Kendall and 4) no-correlation (better for heatmap). Default chosen 'non' (no-correlation).\n",
    "3. **Agglomeration method for hclust** - different agglomeration method for hierarchical cluster analysis provided in the module, 1) war.D, 2) ward.D2, 3) single, 4) Complete, 5) Average, 6) Mcquitty, 7) Median, and 8) Centroid. Default chosen 'Complete'.\n",
    "4. **No. of clusters for hclust** - user can set the number of hierarchical cluster for their data. Default is 3.\n",
    "5. **Distance Matrix computation** - different types of distance matrix calculation can be applied to generate the heatmap, 1) Euclidean, 2) Manhattan, 3) Canberra, 4) Minkowski or 5) none. Default is 'Euclidean'.\n",
    "6. **Dendrogram** - user can choose to show the dendrogram on the row and/or column list.\n",
    "7. **Color key** - selecting color key will give option to change the size of the color key. However, user can choose not to show the color-key. Also color key title is user-defined.\n",
    "8. **axis label** - both x and y-axis label is user-defined. User can change the label of the x and y axis.\n",
    "9. **Title** - It will change the title of the heatmap/ correlation plot.\n",
    "10. **Zoom in & out Heatmap** - for the static plot, user can set the zoom in/out option.\n",
    "\n",
    "### Font & Color\n",
    "1. **Select theme** - with the pre-defined theme colors, custom-defined color for the heatmap is also enabled.\n",
    "2. **label** - user can separately define the size, rotation and color of the label text.\n",
    "3. **Color** - rectangle border, grid color and label color is also user-defined.\n",
    "\n",
    "### Matrix preparation\n",
    "We added a tab for the user to build the heatmap matrix from the *methylysis* analysis. The matrix can be uploaded directly on the *Upload* tab to run the heatmap analysis.\n",
    "1. **Upload normalized data table** - user can upload the normalized table from the *methylysis* analysis directly without any modification.\n",
    "2. **Upload DMC data table** - user can upload the differentially methylated CpG data table from the *methylysis* analysis directly without any modification.\n",
    "3. **Select adjusted P-value** - for more filtration on the dataset, we set a adjusted p-value (BH-corrected as defined in the *methylysis*) parameter. Default is 0.05.\n",
    "4. **Select logFC value** - for more filtration on the dataset, we set a logFC (as defined in the *methylysis*) parameter. Default is 0.1.\n",
    "\n",
    "## Analysis result\n",
    "1. **Heatmap** - the figure will be shown in the adjacent panel. It can be downloaded in the following formats, PDF, PNG, SVG and TIFF.\n",
    "![heatmap](images/heatmap.png)\n",
    "2. **Interactive heatmap** - an interactive heatmap will also be generated and can be downloaded as HTML file.\n",
    "![interactiveHeatmap](images/heatmap2.png)\n",
    "3. **Data table** - a data table will be generated from the heatmap figure data.\n",
    "\n",
    "## R packages used\n",
    "1. heatmap2\n",
    "2. D3heatmap"
   ]
  }
 ],
 "metadata": {
  "language_info": {
   "name": "python"
  },
  "orig_nbformat": 4
 },
 "nbformat": 4,
 "nbformat_minor": 2
}