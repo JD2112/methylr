{
 "cells": [
  {
   "cell_type": "markdown",
   "metadata": {},
   "source": [
    "# UpSet Plots\n",
    "UpSet plot will show the relation between different sets.\n",
    "\n",
    "## How to use\n",
    "\n",
    "### Data upload\n",
    "1. *Upload*: Data can be uploaded as TEXT or CSV or Semicolon separated format. Please look into the example data file. A demo test dataset is running by default and it is available for download by clicking on the “List example data” button.\n",
    "    UpSet module takes three types of inputs.\n",
    "\n",
    "    i. List type data:\n",
    "   List data is a correctly formatted csv/text file, with lists of names. Each column represents a set, and each row represents an element (names/gene/SNPs). Header names (first row) will be used as set names.\n",
    "    ii. Binary type data:\n",
    "    In the binary input file each column represents a set, and each row represents an element. If a names is in the set then it is represented as a 1, else it is represented as a 0.\n",
    "    iii. Combination/expression type data:\n",
    "    Combination/expression type data is the possible combinations of set intersections.\n",
    "\n",
    "### Parameters setup\n",
    "2. *Settings*: there are multiple options to display the plot -\n",
    "    \n",
    "    i. *select sets*: select the dataset from the input data.\n",
    "    \n",
    "    ii. *Number of intersections to show*: Please add the number to calculate the intersection.\n",
    "    \n",
    "    iii. *Order intersections by*: From the drop-down menu, please select the intersection order -  \n",
    "    - Frequency\n",
    "    - degree\n",
    "    iv. *Increasing/Decreasing*: Please select the order of the frequency/degree.\n",
    "\n",
    "    v. *Scale intersections*: Please select the scale intersection from the drop-down menu -\n",
    "    - Original,\n",
    "    - log10,\n",
    "    - log2\n",
    "    \n",
    "    vi. *scale sets*: Please select the scale intersection from the drop-down menu -\n",
    "    - Original,\n",
    "    - log10,\n",
    "    - log2    \n",
    "    \n",
    "    vii. *Plot width*: select the plot width from the slider.\n",
    "    \n",
    "    viii. *Plot height*: select the plot height from the slider.\n",
    "    \n",
    "    ix. *Bar matrix ratio*: select the bar matrix ratio from the slider.\n",
    "    \n",
    "    x. *Angle of number on the bar*: slider to change the angle of the numbers on the bar.\n",
    "\n",
    "    xi. *Connecting point size*: change the connecting point size .\n",
    "\n",
    "    xii. *Connecting line size*: change the connecting line size.\n",
    "\n",
    "3. *Font & Color*: multiple options are included for font and colours -\n",
    "    \n",
    "    i. *Select color theme*: Colour theme can be chosen from the drop-down menu.\n",
    "    \n",
    "    ii. *Label font size*: Change the font size of the Label.\n",
    "    \n",
    "    iii. *Number font size*: Change the font size of the number.\n",
    "\n",
    "## Result\n",
    "\n",
    "User can download the figure in different format.\n",
    "\n",
    "![venn](images/upset.png)\n",
    "\n",
    "## R packages used\n",
    "1. UpSetR"
   ]
  },
  {
   "cell_type": "code",
   "execution_count": null,
   "metadata": {},
   "outputs": [],
   "source": []
  }
 ],
 "metadata": {
  "kernelspec": {
   "display_name": "Python 3.8.5 64-bit",
   "language": "python",
   "name": "python3"
  },
  "language_info": {
   "codemirror_mode": {
    "name": "ipython",
    "version": 3
   },
   "file_extension": ".py",
   "mimetype": "text/x-python",
   "name": "python",
   "nbconvert_exporter": "python",
   "pygments_lexer": "ipython3",
   "version": "3.8.5"
  },
  "vscode": {
   "interpreter": {
    "hash": "aee8b7b246df8f9039afb4144a1f6fd8d2ca17a180786b69acc140d282b71a49"
   }
  }
 },
 "nbformat": 4,
 "nbformat_minor": 2
}
