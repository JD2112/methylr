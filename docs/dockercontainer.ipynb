{
 "cells": [
  {
   "cell_type": "markdown",
   "metadata": {},
   "source": [
    "# Use of Docker Container\n",
    "\n",
    "## On Windows\n",
    "1. Please make sure you have installed latest version of Docker Desktop on your Windows machine.\n",
    "2. Using 'command-prompt' or 'Powershell', run the command ```docker pull jd21/methylr:latest```.\n",
    "3. Open Docker Desktop, under the tab 'images', on the LOCAL images, the docker image will be available as shown in the following figure\n",
    "![Docker Dekstop](images/docker_container_windows1.png)\n",
    "4. Now, click on the RUN, it will open the 'Optional settings'. Under the 'Optional settings', select the 'Port (Host port)' and write **3838** and click 'RUN'.\n",
    "![Docker image run](images/docker_container_windows2.png)\n",
    "5. Click on the **Containers** on the side tab and then click **PORT(S)** '3838:3838'. The default web-browser will open and in a few minutes will start the app (It will take approximately 1-3 minutes to view the app). \n",
    "\n",
    "**NOTE**: You can copy *https://localhost:3838* after running the container and open it on other web-browser to run the app. \n",
    "![Docker container run](images/docker_container_windows3.png)\n",
    "\n",
    "## On MacOS\n",
    "1. Please make sure you have installed latest version of Docker Desktop on your MacOS.\n",
    "2. Run the command,  ```docker pull jd21/methylr:latest``` on Mac *terminal*.\n",
    "3. If you are using the **Docker Desktop** to use *methylR*, please follow the instructions from 3 to 5 as mentioned above for Windows.\n",
    "4. Alternatively, if you want to use the MacOS *terminal* to run the app, please use this command ```docker run --rm -p 3838:3838 jd21/methylr:latest``` directly and after pulling all the images by docker, *terminal* will display \n",
    "```\n",
    "[2022-10-30T07:57:41.311] [INFO] shiny-server - Shiny Server v1.5.18.979 (Node.js v12.22.6)\n",
    "[2022-10-30T07:57:41.312] [INFO] shiny-server - Using config file \"/etc/shiny-server/shiny-server.conf\"\n",
    "[2022-10-30T07:57:41.342] [WARN] shiny-server - Running as root unnecessarily is a security risk! You could be running more securely as non-root.\n",
    "[2022-10-30T07:57:41.345] [INFO] shiny-server - Starting listener on http://[::]:3838\n",
    "```\n",
    "5. Now, open the web-browser and run ```https://localhost:3838``` will load the app within 1-3 minutes.\n",
    "\n",
    "## On Linux (Ubuntu 20.04LTS)\n",
    "1. If you want to use the linux *terminal* to run *methylR*, use the following command on the *terminal*\n",
    "```\n",
    "docker run --rm -p 3838:3838 jd21/methylr:latest\n",
    "```\n",
    "2. If you want to use the Docker Desktop for Linux, first pull the docker container using ```docker pull jd21/methylr:latest``` from *terminal* and then follow Step 3-5 as mentioned above for Windows.\n",
    "\n",
    "\n",
    "**NOTE**: Please contact the IT support if Docker is running properly. You can also contact the developers using the [*GitHub*](https://github.com/JD2112/methylr/issues) or the [*Google groups*](https://groups.google.com/g/methylr) or directly [email the developer](mailto:methylr@googlegroups.com)."
   ]
  }
 ],
 "metadata": {
  "language_info": {
   "name": "python"
  },
  "orig_nbformat": 4
 },
 "nbformat": 4,
 "nbformat_minor": 2
}
