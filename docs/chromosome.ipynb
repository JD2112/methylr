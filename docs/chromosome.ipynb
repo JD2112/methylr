{
 "cells": [
  {
   "cell_type": "markdown",
   "metadata": {
    "pycharm": {
     "name": "#%% md\n"
    }
   },
   "source": [
    "# Chromosome plot\n",
    "Chromosome plot is a way to visualize coordinates at DMC positions over the chromosome structure. In *methylR*, Users can vary the cut-off for adjusted p-value as well as the fold change value. It is possible to visualize one chromosome at a time or all the chromosomes on the same figure.\n",
    "\n",
    "## How to use\n",
    "\n",
    "### Data upload & Parameters setup\n",
    "#### Data upload\n",
    "1. User needs to upload a text (tab-delimited) file with adjusted p-values and logFC values. At present, user can use the DMCs data file directly generated from methylysis run.\n",
    "2. To setup the adjusted p-value, user can change the cut-off. Default is setup to 0.05.\n",
    "3. LogFC cut-off can also be changed as per user requirement. Default is 0.3.\n",
    "4. After the file upload and setting up the cut-off for adjusted P-value and logFC, click the \"Create plot\" button.\n",
    "\n",
    "## Analysis result\n",
    "\n",
    "### Chromosome plot\n",
    "1. The figure will be generated as soon as the computation finishes and it will allow you to vary the font size on the flow.\n",
    "2. User can download the plot as a static figure (PDF, PNG, SVG, TIFF).\n",
    "![chromosome plot](images/chromosome1.png)\n",
    "3. On the right tab, user can also see the volcano data table which is useful when they are using the full dataset from the methylysis result.\n",
    "\n",
    "## R packages\n",
    "1. Chromplot"
   ]
  }
 ],
 "metadata": {
  "kernelspec": {
   "display_name": "Python 3.8.5 64-bit",
   "language": "python",
   "name": "python3"
  },
  "language_info": {
   "codemirror_mode": {
    "name": "ipython",
    "version": 3
   },
   "file_extension": ".py",
   "mimetype": "text/x-python",
   "name": "python",
   "nbconvert_exporter": "python",
   "pygments_lexer": "ipython3",
   "version": "3.8.5"
  },
  "vscode": {
   "interpreter": {
    "hash": "aee8b7b246df8f9039afb4144a1f6fd8d2ca17a180786b69acc140d282b71a49"
   }
  }
 },
 "nbformat": 4,
 "nbformat_minor": 2
}
