{
 "cells": [
  {
   "cell_type": "markdown",
   "metadata": {},
   "source": [
    "# Venn analysis\n",
    "The following analysis and diagram is forked from ...\n",
    "\n",
    "## How to use\n",
    "\n",
    "### Data upload & Parameters setup\n",
    "\n",
    "#### Parameters setup\n",
    "\n",
    "1. *Upload*: Data can be uploaded as TEXT or CSV or Semicolon separated format. Please look into the example data file.\n",
    "\n",
    "2. *Settings*: Under settings, there are multiple options to display the plot -\n",
    "    i. *Venn type*: different type of venn diagram can be selected from the drop-down menu\n",
    "    - Chow-Ruskey\n",
    "    - Classical\n",
    "    - Edwards\n",
    "    - Square\n",
    "    - Battle\n",
    "    \n",
    "    The diagram can be *weighted* or *Eular*.\n",
    "    \n",
    "    ii. *Border line width*: border line can be drawn with the slider option.\n",
    "\n",
    "    iii. *Border line type*: border line type can be selected from the drop-down menu.\n",
    "\n",
    "    iv. *zoom in/out Venn diagram*: select the zoom option on the slide bar.\n",
    "\n",
    "3. *Font & Color*: multiple ooptions are included for font and colours -\n",
    "    \n",
    "    i. *Select color theme*: Colour theme can be chosen from the drop-down menu.\n",
    "    \n",
    "    ii. *Label font size*: Change the font size of the Label.\n",
    "    \n",
    "    iii. *Number font size*: Change the font size of the number.\n",
    "\n",
    "\n",
    "## R packages used"
   ]
  }
 ],
 "metadata": {
  "language_info": {
   "codemirror_mode": {
    "name": "ipython",
    "version": 3
   },
   "file_extension": ".py",
   "mimetype": "text/x-python",
   "name": "python",
   "nbconvert_exporter": "python",
   "pygments_lexer": "ipython3",
   "version": "3.9.10"
  }
 },
 "nbformat": 4,
 "nbformat_minor": 2
}