{
 "cells": [
  {
   "cell_type": "markdown",
   "metadata": {
    "collapsed": true,
    "pycharm": {
     "name": "#%% md\n"
    }
   },
   "source": [
    "# Multi-D Analysis\n",
    "In *methylR*, multiple dimensional analysis includes two type of analysis -\n",
    "1. MDS: Multidimensional Scaling\n",
    "2. PCA: Prinicipal Component Analysis\n",
    "\n",
    "Multidimensional scaling is a visual representation of distances or dissimilarities between set of objects. MDS finds set of vectors in p-dimensional space such that the matrix of Euclidean distance among them corresponds as closely as possible to some function of the input matrix. The input to multidimensional scaling is a distance matrix. To get some more details on how to use MDS in biological data, read {cite:p}`mugavin2008multidimensional`, {cite:p}`lacher1987interpretation`, {cite:p}`lacher1988comparison`\n",
    "Principal Component Analysis (PCA) is the original vectors in n-dimensional space and the data are projected onto the directions in the data with the most variance.\n",
    "\n",
    "## How to use\n",
    "For both analysis, user need to provide a TEXT (tab-delimited) file with numeric values, e.g. the output normalized table from methylysis, i.e. the normalized \\beta value table. However the user can use similar tables for the analysis.\n",
    "\n",
    "### Data Upload\n",
    "1. Select the text file (tab-delimited file) and upload it.\n",
    "2. User can choose the option to use number of variables from the uploaded data file.\n",
    "3. On the right tab, under \"MDS plot\", user will find the button to \"Run MDS Analysis\"\n",
    "4. Next tab is designed for the PCA plot and here user can have an input of text file to highlight the group.\n",
    "*NOTE* Please note that, the single column with header **\"group\"** should be supplied in this file. Match the column names of the variable data file with the group.\n",
    "Example:\n",
    "If in the variable data file, the column names are -\n",
    "    sampleA1 sampleA2 sampleA3  sampleB1    sampleB2    sampleB3\n",
    "the group text file should be like this -\n",
    "group\n",
    "A\n",
    "A\n",
    "A\n",
    "B\n",
    "B\n",
    "B\n",
    "For more, please see the [test data](https://sourceforge.net/projects/methylr/) files.\n",
    "\n",
    "## Analysis result\n",
    "\n",
    "### MDS plot\n",
    "1. After the click on \"Run MDS Analysis\", the program will take some time to generate the plot and will appear as soon the run finishes. The zoom bar can be used to zoom in/out the plot.\n",
    "2. The generated figure can be downloaded in different format, vector graphics support - PDF and SVG or PNG and TIFF. User can download all different options for the same figure.\n",
    "![mdsplot](images/mdsPlot.png)\n",
    "\n",
    "### PCA plot\n",
    "1. The plot will be generated after computing the PCA, \"Run PCA\" with the group colors and legend.\n",
    "2. The generated plot is dynamic and positional details with the group name can be seen with mouse hovering.\n",
    "3. The plot is generated using the plotly application, it can zoom in/out, save figure as PNG format, and do all other available functionality for plotly figures.\n",
    "4. User can also download the dynamic figure as html file.\n",
    "5. To generate the PCA plot one additional TEXT file is needed. This single-column file must have \"group\" as header and should store the sample group in the same order as you have in the Sample_Group column of the Sample_shee.csv file. Please find [here](https://github.com/JD2112/methylr/blob/main/data/groupData.txt) an example of this file that you can use with the test data provided with this distribution.\n",
    "![pca plot](images/PCA.png)\n",
    "\n",
    "\n",
    "## R packages used\n",
    "1. minfi\n",
    "2. FactoMineR\n",
    "3. factoExtra\n",
    "4. explor"
   ]
  },
  {
   "cell_type": "code",
   "execution_count": null,
   "metadata": {},
   "outputs": [],
   "source": []
  }
 ],
 "metadata": {
  "kernelspec": {
   "display_name": "Python 3.8.5 64-bit",
   "language": "python",
   "name": "python3"
  },
  "language_info": {
   "codemirror_mode": {
    "name": "ipython",
    "version": 3
   },
   "file_extension": ".py",
   "mimetype": "text/x-python",
   "name": "python",
   "nbconvert_exporter": "python",
   "pygments_lexer": "ipython3",
   "version": "3.8.5"
  },
  "vscode": {
   "interpreter": {
    "hash": "aee8b7b246df8f9039afb4144a1f6fd8d2ca17a180786b69acc140d282b71a49"
   }
  }
 },
 "nbformat": 4,
 "nbformat_minor": 1
}
