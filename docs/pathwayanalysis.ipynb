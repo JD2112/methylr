{
 "cells": [
  {
   "cell_type": "markdown",
   "metadata": {
    "pycharm": {
     "name": "#%% md\n"
    }
   },
   "source": [
    "# Pathway enrichment analysis\n",
    "Pathway enrichment analysis helps the user to get the mechanistic insights of the important genes from genome-wide data analysis. In *methylR*, we introduced the pathway analysis module that can compute the enriched pathways from three different databases, KEGG, Reactome and Wikipathways.\n",
    "\n",
    "## How to use\n",
    "\n",
    "### Data upload & Parameters setup\n",
    "#### Data upload\n",
    "User can upload the direct output result from the methylysis run. At present, user can upload the DMC data produced by the methylysis pipeline directly. The input file should be in a text (tab-delimited) format.\n",
    "\n",
    "#### Parameters setup\n",
    "\n",
    "1. *Choose pathway database*: Please select pathway database for the analysis from the drop-down list\n",
    "    - ReactomeDB;\n",
    "    - KEGGdb;\n",
    "    - Wikipathways\n",
    "    By default, the tool will use the ReactomeDB analysis.\n",
    "\n",
    "2. *Choose number of pathways*: Please select number of pathways for graphical display. The default is Top 20 pathways. The Top 20 enriched pathways is selected based on the adjusted P-values.\n",
    "\n",
    "3. *Choose pathway database*: user can choose to use different pathway database, namely ReactomeDB, KEGG or wikipathways.\n",
    "\n",
    "4. *Select p-value adjustment method*: The default method for adjustment of P-value is the Benjamini-Hochberg (BH) correction method. User can choose different method using the drop-down list:\n",
    "    - Benjamini-Hochberg (BH)\n",
    "    - Benjamini-Yeketuli (BY)\n",
    "    - Bonferroni\n",
    "    - Holm\n",
    "    - Hommel\n",
    "    - Hochberg\n",
    "    - FDR\n",
    "    - none\n",
    "\n",
    "5. *Choose the adjusted P-value*: The default value for BH-correction is set to 0.05. User can set their own cut-off values.\n",
    "\n",
    "6. *Choose pathway analysis type*: The pathway analysis type can be chosen from the drop-down list -\n",
    "    - Over representation analysis (ORA) \n",
    "    - Gene set enrichment analysis (GSEA).\n",
    "\n",
    "## Analysis result\n",
    "1. *Pathway enrichment plot*: after \"Run Analysis\", the plot will be generated as soon as computation has been done. Depends on the size of data, it might take some more time. At present the plot will be generated as a dot plot which is also a product of plotly, hence dynamic and have similar functionalities with mouse pointing. At present, with the mouse hover over, each dot will show the pathway name, count of genes from the input list for that particular pathway, the corrected p-value and gene ratio. The color scale bar shows in the legend. User can download the figure as PNG as described above and the dynamic figure as a html file.\n",
    "![pathway enrichment](images/Pathway-Enrichment.png)\n",
    "2. *Pathway enrichment table*: with the same input file and parameter setup, user can also get the result as an excel file (current page as well as full table).\n",
    "![pathway enrichment table](images/PathEnrichTable1.png)\n",
    "\n",
    "## R packages used\n",
    "1. clusterProfiler\n",
    "2. bitr"
   ]
  },
  {
   "cell_type": "code",
   "execution_count": null,
   "metadata": {},
   "outputs": [],
   "source": []
  }
 ],
 "metadata": {
  "kernelspec": {
   "display_name": "Python 3 (ipykernel)",
   "language": "python",
   "name": "python3"
  },
  "language_info": {
   "codemirror_mode": {
    "name": "ipython",
    "version": 3
   },
   "file_extension": ".py",
   "mimetype": "text/x-python",
   "name": "python",
   "nbconvert_exporter": "python",
   "pygments_lexer": "ipython3",
   "version": "3.7.6"
  },
  "vscode": {
   "interpreter": {
    "hash": "aee8b7b246df8f9039afb4144a1f6fd8d2ca17a180786b69acc140d282b71a49"
   }
  }
 },
 "nbformat": 4,
 "nbformat_minor": 2
}
